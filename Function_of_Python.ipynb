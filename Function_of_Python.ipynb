{
  "nbformat": 4,
  "nbformat_minor": 0,
  "metadata": {
    "colab": {
      "provenance": []
    },
    "kernelspec": {
      "name": "python3",
      "display_name": "Python 3"
    },
    "language_info": {
      "name": "python"
    }
  },
  "cells": [
    {
      "cell_type": "markdown",
      "source": [
        "#Function in Python\n",
        "---"
      ],
      "metadata": {
        "id": "lSZWmwISZZke"
      }
    },
    {
      "cell_type": "markdown",
      "source": [
        "# 1. What is the difference between a function and a method in Python?\n",
        "\n",
        "- A function is a standalone block of code defined using the def keyword, not tied to any object, and called independently. It performs a specific task and can return a value.\n",
        "- A *method* is a function that belongs to a class or object, defined within a class, and called on an instance of that class (object). Methods often operate on the object’s data (attributes).\n",
        "\n",
        "*Key Differences*:\n",
        "- *Scope*: Functions are global or module-level; methods are bound to a class or object.\n",
        "- *Calling*: Functions are called directly (e.g., func()); methods are called on an object (e.g., obj.method()).\n",
        "- *First Parameter*: Methods implicitly take self (the object instance) as their first parameter; functions do not.\n"
      ],
      "metadata": {
        "id": "MW6RTufndFxW"
      }
    },
    {
      "cell_type": "code",
      "execution_count": null,
      "metadata": {
        "colab": {
          "base_uri": "https://localhost:8080/"
        },
        "id": "eJe7_REbZDXh",
        "outputId": "6f4881e7-8abd-4fab-9079-72c48dbe9e9a"
      },
      "outputs": [
        {
          "output_type": "stream",
          "name": "stdout",
          "text": [
            "Hello, Aman!\n",
            "Hello, Rahul, I am Aman!\n"
          ]
        }
      ],
      "source": [
        "#*Example*:-\n",
        "# Function (standalone)\n",
        "def greet(name):\n",
        "  return f\"Hello, {name}!\"\n",
        "\n",
        "## Method (inside a class)\n",
        "class Person:\n",
        "  def greet(self, name):\n",
        "    return f\"Hello, {name}, I am {self.name}!\"\n",
        "\n",
        "# Usage\n",
        "print(greet(\"Aman\"))  # Function call\n",
        "person = Person()\n",
        "person.name = \"Aman\"\n",
        "print(person.greet(\"Rahul\"))  # Method call"
      ]
    },
    {
      "cell_type": "markdown",
      "source": [
        "# 2. Explain the concept of function arguments and parameters in Python.\n",
        "- Parameters are variables defined in a function’s signature, acting as placeholders for values passed to the function.\n",
        "- Arguments are the actual values provided when calling the function, which are assigned to the parameters.\n",
        "\n",
        "** Types of Parameters/Arguments**:\n",
        "  - **Positional**: Matched by order.\n",
        "  - **Keyword**: Specified with parameter names.\n",
        "  - **Default**: Parameters with default values if no argument is provided.\n",
        "  - **Variable length**: *args for positional, **kwargs for keyword arguments."
      ],
      "metadata": {
        "id": "LpI32T2qgQWs"
      }
    },
    {
      "cell_type": "code",
      "source": [
        "#Example:\n",
        "# Function with parameters (name, age, city)\n",
        "def introduce(name, age, city=\"Agra\"):\n",
        "    return f\"{name} is {age} years old and lives in {city}.\"\n",
        "\n",
        "# Calling with arguments\n",
        "print(introduce(\"Aman\", 29))  # Positional arguments\n",
        "print(introduce(name=\"Aman\", age=29, city=\"Delhi\"))  # Keyword arguments#"
      ],
      "metadata": {
        "colab": {
          "base_uri": "https://localhost:8080/"
        },
        "id": "SodmL76ieorU",
        "outputId": "a2b7b125-054b-4831-ea5b-1f0aeac97167"
      },
      "execution_count": null,
      "outputs": [
        {
          "output_type": "stream",
          "name": "stdout",
          "text": [
            "Aman is 29 years old and lives in Agra.\n",
            "Aman is 29 years old and lives in Delhi.\n"
          ]
        }
      ]
    },
    {
      "cell_type": "markdown",
      "source": [
        "# 3. What are the different ways to define and call a function in Python?\n",
        "Functions in Python can be defined and called in various ways:\n",
        "- Standard Function: Defined with def, called by name.\n",
        "- Lambda Function: Anonymous function defined using lambda, often used for short operations.\n",
        "- Nested Function: Function defined inside another function.\n",
        "- Function with Default Arguments: Parameters with default values.\n",
        "- Function with Variable Arguments: Using *args or **kwargs."
      ],
      "metadata": {
        "id": "zt2nIrALh_Mj"
      }
    },
    {
      "cell_type": "code",
      "source": [
        "# Example:\n",
        "# Standard function\n",
        "def add(a,b):\n",
        "    return a+b\n",
        "print(add(2,3))  # Standard call"
      ],
      "metadata": {
        "colab": {
          "base_uri": "https://localhost:8080/"
        },
        "id": "HEkAcACPhcEC",
        "outputId": "b6175f89-664a-4a83-d6c7-f0de64a293bc"
      },
      "execution_count": null,
      "outputs": [
        {
          "output_type": "stream",
          "name": "stdout",
          "text": [
            "5\n"
          ]
        }
      ]
    },
    {
      "cell_type": "code",
      "source": [
        "# Lambda function\n",
        "square=lambda x: x*x\n",
        "print(square(4))  # Lambda call"
      ],
      "metadata": {
        "colab": {
          "base_uri": "https://localhost:8080/"
        },
        "id": "JsMUkyksrQ_e",
        "outputId": "50768062-4fbb-4a7c-84a8-9ae6604d60f1"
      },
      "execution_count": null,
      "outputs": [
        {
          "output_type": "stream",
          "name": "stdout",
          "text": [
            "16\n"
          ]
        }
      ]
    },
    {
      "cell_type": "code",
      "source": [
        "# Nested function\n",
        "def outer(name):\n",
        "    def inner():\n",
        "        return f\"Hello, {name}!\"\n",
        "    return inner()\n",
        "print(outer(\"Aman\"))  # Nested function call"
      ],
      "metadata": {
        "colab": {
          "base_uri": "https://localhost:8080/"
        },
        "id": "essRKOKKrdTF",
        "outputId": "ed65a7c7-98d8-49bd-d586-ab091d400e51"
      },
      "execution_count": null,
      "outputs": [
        {
          "output_type": "stream",
          "name": "stdout",
          "text": [
            "Hello, Aman!\n"
          ]
        }
      ]
    },
    {
      "cell_type": "code",
      "source": [
        "# Function with default and variable arguments\n",
        "def profile(name, age=29, *hobbies):\n",
        "    return f\"{name}, age {age}, hobbies: {hobbies}\"\n",
        "print(profile(\"Aman\", 29, \"Riding\", \"cooking\"))  # Variable arguments"
      ],
      "metadata": {
        "colab": {
          "base_uri": "https://localhost:8080/"
        },
        "id": "2EClKn4HrmcC",
        "outputId": "756a5839-b263-4250-843a-99f8283e0958"
      },
      "execution_count": null,
      "outputs": [
        {
          "output_type": "stream",
          "name": "stdout",
          "text": [
            "Aman, age 29, hobbies: ('Riding', 'cooking')\n"
          ]
        }
      ]
    },
    {
      "cell_type": "markdown",
      "source": [
        "# 4. What is the purpose of the return statement in a Python function?\n",
        "The return statement is used to:\n",
        "- Exit a function and send a value (or values) back to the caller.\n",
        "- Allow the function’s output to be used elsewhere in the program.\n",
        "- If no return is specified, the function returns None by default.\n",
        "\n",
        "-->>Purpose in Data Analytics: Functions with return are used to compute results (e.g., aggregations, transformations) that can be stored or passed to other functions.\n"
      ],
      "metadata": {
        "id": "9kC2yRvqiTYt"
      }
    },
    {
      "cell_type": "code",
      "source": [
        "#Example:\n",
        "#Function to calculate average sales\n",
        "def average_sales(sales):\n",
        "    return sum(sales)/len(sales)\n",
        "sales_data=[100, 200, 300]\n",
        "avg=average_sales(sales_data)\n",
        "print(f\"My average sales:{avg}\")"
      ],
      "metadata": {
        "colab": {
          "base_uri": "https://localhost:8080/"
        },
        "id": "ro-Zo17YivyL",
        "outputId": "843a8b99-4aa1-4c34-a908-66e0b906a2c5"
      },
      "execution_count": null,
      "outputs": [
        {
          "output_type": "stream",
          "name": "stdout",
          "text": [
            "My average sales:200.0\n"
          ]
        }
      ]
    },
    {
      "cell_type": "markdown",
      "source": [
        "# 5. What are iterators in Python and how do they differ from iterables?\n",
        "- Iterable: An object that can be looped over (e.g., list, tuple, string). It implements the __iter__() method, which returns an iterator.\n",
        "- Iterator: An object that produces one element at a time from an iterable using the __next__() method. Created using iter() on an iterable.\n",
        "- **Differences**:\n",
        "  - Iterable: Can be passed to a loop (e.g., for loop) or iter() to get an iterator.\n",
        "  - Iterator: Tracks its position in the sequence and raises StopIteration when exhausted.\n",
        "  - Use: Iterables are the source; iterators are the mechanism for traversing them."
      ],
      "metadata": {
        "id": "I6qMOsFxixcB"
      }
    },
    {
      "cell_type": "code",
      "source": [
        "#Example:\n",
        "#Iterable: a list\n",
        "data = [1, 2, 3]\n",
        "iterator = iter(data)          #Iterator: created from the iterable\n",
        "print(next(iterator))  # First element"
      ],
      "metadata": {
        "colab": {
          "base_uri": "https://localhost:8080/"
        },
        "id": "TzCQh72wjKAb",
        "outputId": "d8af5af7-629c-4297-a16b-7f55d0207549"
      },
      "execution_count": null,
      "outputs": [
        {
          "output_type": "stream",
          "name": "stdout",
          "text": [
            "1\n"
          ]
        }
      ]
    },
    {
      "cell_type": "code",
      "source": [
        "print(next(iterator))  # Second element"
      ],
      "metadata": {
        "colab": {
          "base_uri": "https://localhost:8080/"
        },
        "id": "gEa8Jl2LtyF2",
        "outputId": "b04588ca-ec23-4792-d6e9-55f7dfc580be"
      },
      "execution_count": null,
      "outputs": [
        {
          "output_type": "stream",
          "name": "stdout",
          "text": [
            "2\n"
          ]
        }
      ]
    },
    {
      "cell_type": "code",
      "source": [
        "print(next(iterator))  # Third element"
      ],
      "metadata": {
        "colab": {
          "base_uri": "https://localhost:8080/"
        },
        "id": "p4EvvQC6t4_g",
        "outputId": "a462256c-41d9-4bce-df88-f2ec2727ba89"
      },
      "execution_count": null,
      "outputs": [
        {
          "output_type": "stream",
          "name": "stdout",
          "text": [
            "3\n"
          ]
        }
      ]
    },
    {
      "cell_type": "code",
      "source": [
        "# Or\n",
        "data = [1, 2, 3]\n",
        "iterator = iter(data)\n",
        "print(next(iterator))  # First element\n",
        "print(next(iterator))  # Second element\n",
        "print(next(iterator))  # Third element"
      ],
      "metadata": {
        "colab": {
          "base_uri": "https://localhost:8080/"
        },
        "id": "pV-uLWEmuCvi",
        "outputId": "35143583-9cce-4793-d6da-3fbf3260e27f"
      },
      "execution_count": null,
      "outputs": [
        {
          "output_type": "stream",
          "name": "stdout",
          "text": [
            "1\n",
            "2\n",
            "3\n"
          ]
        }
      ]
    },
    {
      "cell_type": "markdown",
      "source": [
        "# 6. Explain the concept of generators in Python and how they are defined.\n",
        "- Generators: Special functions that yield values one at a time, pausing execution between yields, making them memory-efficient for large datasets. They are iterators, created using yield instead of return.\n",
        "\n",
        "-->>Use the def keyword with yield statements. Can also use generator expressions."
      ],
      "metadata": {
        "id": "EDFOb24_jLih"
      }
    },
    {
      "cell_type": "code",
      "source": [
        "#Example:\n",
        "# Generator to yield squares of numbers\n",
        "def square_generator(n):\n",
        "    for i in range(n):\n",
        "        yield i*i\n",
        "sq = square_generator(3)     #Using generator\n",
        "print(f\"sq:\")\n",
        "for square in sq:\n",
        "    print(square)"
      ],
      "metadata": {
        "colab": {
          "base_uri": "https://localhost:8080/"
        },
        "id": "DQExZZjmjOTu",
        "outputId": "e705ef79-6595-4855-b47d-b8af016e4a6b"
      },
      "execution_count": null,
      "outputs": [
        {
          "output_type": "stream",
          "name": "stdout",
          "text": [
            "sq:\n",
            "0\n",
            "1\n",
            "4\n"
          ]
        }
      ]
    },
    {
      "cell_type": "markdown",
      "source": [
        "# 7. What are the advantages of using generators over regular functions?\n",
        "Generators are special functions that use yield to produce values one at a time, pausing execution between yields, unlike regular functions that return a single value (or a complete collection) using return. *Advantages* include:\n",
        "- Memory Efficiency: Generators yield one item at a time, avoiding the need to store an entire dataset in memory, ideal for large datasets in data analytics.\n",
        "- Lazy Evaluation: Values are computed only when needed, reducing computation time for partial data access.\n",
        "- Simpler Code for Iteration: Generators simplify code for iterative processes, as they act as iterators without needing explicit iterator classes.\n",
        "- Infinite Sequences: Generators can produce infinite sequences (e.g., infinite numbers) without crashing, as they generate values on demand.\n",
        "\n"
      ],
      "metadata": {
        "id": "SWJFbayopEQ2"
      }
    },
    {
      "cell_type": "code",
      "source": [
        "#Example:\n",
        "# Generator to yield sales data one at a time\n",
        "def sales_generator(sales):\n",
        "    for sale in sales:\n",
        "        yield sale\n",
        "def get_sales(sales):     #Regular function returns entire list\n",
        "    return sales\n",
        "sales_data = [100, 200, 300]\n",
        "gen = sales_generator(sales_data)\n",
        "print(f\"My 1st sale: {next(gen)}\")  #Only one value loaded\n",
        "print(get_sales(sales_data))    #Entire list loaded"
      ],
      "metadata": {
        "colab": {
          "base_uri": "https://localhost:8080/"
        },
        "id": "8OKjfkgupksY",
        "outputId": "4d4550ec-bc79-4f9b-b90b-2351276f01a3"
      },
      "execution_count": null,
      "outputs": [
        {
          "output_type": "stream",
          "name": "stdout",
          "text": [
            "My 1st sale: 100\n",
            "[100, 200, 300]\n"
          ]
        }
      ]
    },
    {
      "cell_type": "markdown",
      "source": [
        "# 8. What is a lambda function in Python and when is it typically used?\n",
        "A lambda function is an anonymous, single-expression function defined using the lambda keyword, without a name or def statement. It is used for short, simple operations where defining a full function is unnecessary.\n",
        "- Syntax: lambda arguments: expression\n",
        "- Typical Uses:\n",
        "  - As arguments to higher-order functions like map(), filter(), or sorted().\n",
        "  - For quick, one-off calculations in data analytics (e.g., transforming data).\n",
        "  - In situations requiring concise function definitions without reuse."
      ],
      "metadata": {
        "id": "aQJIHIKWpl9S"
      }
    },
    {
      "cell_type": "code",
      "source": [
        "#Example:\n",
        "#Lambda to cal. sq of a no.\n",
        "square=lambda x: x*x\n",
        "numbers=[1, 2, 3]                   # Using lambda with map\n",
        "squares=list(map(lambda x: x*x, numbers))\n",
        "print(f\"Squares: {squares}\")"
      ],
      "metadata": {
        "colab": {
          "base_uri": "https://localhost:8080/"
        },
        "id": "8OixPSpApuqH",
        "outputId": "b9d1884c-e6a4-4f02-a19f-3bf42b8a9efe"
      },
      "execution_count": null,
      "outputs": [
        {
          "output_type": "stream",
          "name": "stdout",
          "text": [
            "Squares: [1, 4, 9]\n"
          ]
        }
      ]
    },
    {
      "cell_type": "markdown",
      "source": [
        "# 9. Explain the purpose and usage of the map() function in Python.\n",
        "The map() function applies a given function to each item in an iterable (e.g., list, tuple), returning an iterator of the results. It’s used to transform data efficiently without explicit loops, common in data analytics for applying operations to datasets.\n",
        "- Syntax: map(function, iterable, ...)\n",
        "- Purpose: Transform or process each element in an iterable, producing a new sequence.\n",
        "- Usage: Often used with lambda functions or defined functions, and results are converted to a list or tuple for use."
      ],
      "metadata": {
        "id": "EW7EEigRpwRH"
      }
    },
    {
      "cell_type": "code",
      "source": [
        "#Example:\n",
        "# Use map to double sales values\n",
        "def double_sale(sale):\n",
        "    return sale*2\n",
        "sales=[100, 200, 300]\n",
        "doubled_sales=list(map(double_sale, sales))\n",
        "print(f\"doubled sales:{doubled_sales}\")"
      ],
      "metadata": {
        "colab": {
          "base_uri": "https://localhost:8080/"
        },
        "id": "WYIayAsGp84q",
        "outputId": "a4aef965-e77f-4dd4-8b09-62af845e15ed"
      },
      "execution_count": null,
      "outputs": [
        {
          "output_type": "stream",
          "name": "stdout",
          "text": [
            "doubled sales:[200, 400, 600]\n"
          ]
        }
      ]
    },
    {
      "cell_type": "markdown",
      "source": [
        "# 10. What is the difference between map(), reduce(), and filter() functions in Python?\n",
        "These are functional programming tools in Python for processing iterables:\n",
        "- *map()*: Applies a function to each element in an iterable, producing a transformed iterator.\n",
        "  - *Purpose*: Transformation (e.g., squaring numbers).\n",
        "  - *Returns*: Iterator of transformed values.\n",
        "- *reduce()*: Applies a function cumulatively to pairs of elements in an iterable, reducing it to a single value (requires from functools import reduce).\n",
        "  - *Purpose*: Aggregation (e.g., summing a list).\n",
        "  - *Returns*: Single value.\n",
        "- *filter()*: Applies a function to each element, keeping only those where the function returns True.\n",
        "  - *Purpose*: Selection (e.g., filtering even numbers).\n",
        "  - *Returns*: Iterator of filtered elements."
      ],
      "metadata": {
        "id": "r4Ph_vfTp9FG"
      }
    },
    {
      "cell_type": "code",
      "source": [
        "#Example:\n",
        "from functools import reduce\n",
        "numbers=[1, 2, 3]\n",
        "doubled=list(map(lambda x: x*2, numbers))          #map: Double each number\n",
        "total=reduce(lambda x, y: x+y, numbers)            #reduce: Sum all numbers\n",
        "evens = list(filter(lambda x: x%2==0, numbers))  #filter: Keep even numbers\n",
        "print(f\"results: map={doubled}, reduce={total}, filter={evens}\")"
      ],
      "metadata": {
        "colab": {
          "base_uri": "https://localhost:8080/"
        },
        "id": "G2G8av5WqHYs",
        "outputId": "c619b77a-b2f7-419d-87b9-386d6b4928d5"
      },
      "execution_count": null,
      "outputs": [
        {
          "output_type": "stream",
          "name": "stdout",
          "text": [
            "results: map=[2, 4, 6], reduce=6, filter=[2]\n"
          ]
        }
      ]
    },
    {
      "cell_type": "markdown",
      "source": [
        "# 11. Using pen & Paper write the internal mechanism for sum operation using reduce function on this given?\n",
        "list:[47,1,42,13];"
      ],
      "metadata": {
        "id": "1ga8c0_eqTlV"
      }
    },
    {
      "cell_type": "markdown",
      "source": [
        "![Answer 11.jpeg](data:image/jpeg;base64,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)"
      ],
      "metadata": {
        "id": "mCiSegOgFz3s"
      }
    },
    {
      "cell_type": "markdown",
      "source": [
        "- ***Asnwer 11***\n",
        "In this Drive Link:- https://drive.google.com/drive/folders/1kAAOk7m_PZ0VvvvMsnwJ6e_ZmDuOI-dN?usp=sharing\n",
        "\n",
        "As .JPG format(or say Image)"
      ],
      "metadata": {
        "id": "voo4sdmH44oz"
      }
    },
    {
      "cell_type": "code",
      "source": [
        "#code is here also\n",
        "# Sum operation using reduce\n",
        "list=[47, 1, 42, 13]\n",
        "total=reduce(lambda x, y: x+y, list)\n",
        "print(f\"sum of {list}: {total}\")"
      ],
      "metadata": {
        "colab": {
          "base_uri": "https://localhost:8080/"
        },
        "id": "Pv7EAGjHqJ8j",
        "outputId": "d6523182-43ed-4630-b66b-88e1cf4de78d"
      },
      "execution_count": null,
      "outputs": [
        {
          "output_type": "stream",
          "name": "stdout",
          "text": [
            "sum of [47, 1, 42, 13]: 103\n"
          ]
        }
      ]
    },
    {
      "cell_type": "markdown",
      "source": [
        "=============================================================================================================================================================================================================================="
      ],
      "metadata": {
        "id": "DURYlK7XH1AJ"
      }
    },
    {
      "cell_type": "markdown",
      "source": [
        "# **Practical Question**"
      ],
      "metadata": {
        "id": "jBoEPmCx5b3z"
      }
    },
    {
      "cell_type": "markdown",
      "source": [
        "# 1. Write a Python function that takes a list of numbers as input and returns the sum of all even numbers in the list.\n"
      ],
      "metadata": {
        "id": "zRJKncHG5tli"
      }
    },
    {
      "cell_type": "code",
      "source": [
        "def sum_even_numbers(numbers):         #sum even no.\n",
        "    return sum(num for num in numbers if num%2==0)\n",
        "numbers=[1, 2, 3, 4, 5, 6, 7, 8]\n",
        "result=sum_even_numbers(numbers)\n",
        "print(f\"sum of even numbers: {result}\")"
      ],
      "metadata": {
        "colab": {
          "base_uri": "https://localhost:8080/"
        },
        "id": "9O4VOrIJ6F5M",
        "outputId": "408c432a-4610-4649-ca93-3c7854bdfb63"
      },
      "execution_count": null,
      "outputs": [
        {
          "output_type": "stream",
          "name": "stdout",
          "text": [
            "sum of even numbers: 20\n"
          ]
        }
      ]
    },
    {
      "cell_type": "markdown",
      "source": [
        "# 2. Create a Python function that accepts a string and returns the reverse of that string."
      ],
      "metadata": {
        "id": "BbtoE3yG6goz"
      }
    },
    {
      "cell_type": "code",
      "source": [
        "def reverse_string(text):    #reverse a string\n",
        "    return text[::-1]\n",
        "name=\"aman Kushwah\"\n",
        "reversed_name=reverse_string(name)\n",
        "print(f\"Reversed name: {reversed_name}\")"
      ],
      "metadata": {
        "colab": {
          "base_uri": "https://localhost:8080/"
        },
        "id": "9-dX0zE16TEZ",
        "outputId": "dc3da281-09b7-4568-8b1f-a9b86f3e710c"
      },
      "execution_count": null,
      "outputs": [
        {
          "output_type": "stream",
          "name": "stdout",
          "text": [
            "Reversed name: hawhsuK nama\n"
          ]
        }
      ]
    },
    {
      "cell_type": "markdown",
      "source": [
        "# 3. Implement a Python function that takes a list of integers and returns a new list containing the squares of each number."
      ],
      "metadata": {
        "id": "FTNkhaq07Gap"
      }
    },
    {
      "cell_type": "code",
      "source": [
        "def square_numbers(num):              #square numbers\n",
        "    return [n*n for n in num]\n",
        "num=[1, 2, 3, 4]\n",
        "sq=square_numbers(num)\n",
        "print(f\"squared numbers: {sq}\")"
      ],
      "metadata": {
        "colab": {
          "base_uri": "https://localhost:8080/"
        },
        "id": "-M1z5m27668c",
        "outputId": "f0b86f58-d29a-421b-9d66-623010b09a01"
      },
      "execution_count": null,
      "outputs": [
        {
          "output_type": "stream",
          "name": "stdout",
          "text": [
            "squared numbers: [1, 4, 9, 16]\n"
          ]
        }
      ]
    },
    {
      "cell_type": "markdown",
      "source": [
        "# 4. Write a Python function that checks if a given number is prime or not from 1 to 200."
      ],
      "metadata": {
        "id": "u1NKiJcF7FhS"
      }
    },
    {
      "cell_type": "code",
      "source": [
        "def is_prime(number):     #check if a number is prime\n",
        "    if number<2:\n",
        "        return False\n",
        "    for i in range(2, int(number**0.5)+1):\n",
        "        if number%i==0:\n",
        "            return False\n",
        "    return True\n",
        "number=199\n",
        "result=is_prime(number)\n",
        "print(f\"Is {number} prime? {result}\")"
      ],
      "metadata": {
        "colab": {
          "base_uri": "https://localhost:8080/"
        },
        "id": "36y0EPz-78qr",
        "outputId": "851860a4-1f58-417b-a1ad-e8caf727cd01"
      },
      "execution_count": null,
      "outputs": [
        {
          "output_type": "stream",
          "name": "stdout",
          "text": [
            "Is 199 prime? True\n"
          ]
        }
      ]
    },
    {
      "cell_type": "markdown",
      "source": [
        "# 5. Create an iterator class in Python that generates the Fibonacci sequence up to a specified number of terms."
      ],
      "metadata": {
        "id": "DwUdC05e9CbM"
      }
    },
    {
      "cell_type": "code",
      "source": [
        "# Function to generate Fibonacci sequence\n",
        "def fibonacci(n):\n",
        "    fib_list=[]\n",
        "    a,b=0,1\n",
        "    for _ in range(n):\n",
        "        fib_list.append(a)\n",
        "        a,b=b, a+b\n",
        "    return fib_list\n",
        "terms=21\n",
        "result=fibonacci(terms)\n",
        "print(f\"Fibonacci sequence with {terms} terms: {result}\")"
      ],
      "metadata": {
        "colab": {
          "base_uri": "https://localhost:8080/"
        },
        "id": "6qf3Xl948PUR",
        "outputId": "c27c013b-3337-4cfa-a753-7e078484fcca"
      },
      "execution_count": null,
      "outputs": [
        {
          "output_type": "stream",
          "name": "stdout",
          "text": [
            "Fibonacci sequence with 21 terms: [0, 1, 1, 2, 3, 5, 8, 13, 21, 34, 55, 89, 144, 233, 377, 610, 987, 1597, 2584, 4181, 6765]\n"
          ]
        }
      ]
    },
    {
      "cell_type": "markdown",
      "source": [
        "# 6. Write a generator function in Python that yields the powers of 2 up to a given exponent."
      ],
      "metadata": {
        "id": "-t3W88fw-qyr"
      }
    },
    {
      "cell_type": "code",
      "source": [
        "def powers_of_two(limit):\n",
        "    exponent=0\n",
        "    while exponent<=limit:\n",
        "        yield 2**exponent\n",
        "        exponent+=1\n",
        "for num in powers_of_two(5):\n",
        "  print(num)"
      ],
      "metadata": {
        "colab": {
          "base_uri": "https://localhost:8080/"
        },
        "id": "j7aor0UF-S3y",
        "outputId": "616fa52d-68c0-4db6-bf2d-88e4b3bf1963"
      },
      "execution_count": null,
      "outputs": [
        {
          "output_type": "stream",
          "name": "stdout",
          "text": [
            "1\n",
            "2\n",
            "4\n",
            "8\n",
            "16\n",
            "32\n"
          ]
        }
      ]
    },
    {
      "cell_type": "markdown",
      "source": [
        "# 7. Implement a generator function that reads a file line by line and yields each line as a string."
      ],
      "metadata": {
        "id": "Xt_RT3MrA5bB"
      }
    },
    {
      "cell_type": "code",
      "source": [
        "# Function to process lines (simulating file reading)\n",
        "def read_lines(lines):\n",
        "    for line in lines:\n",
        "        yield line\n",
        "file_content=[\"Aman\", \"29\", \"Agra\"]\n",
        "lines=read_lines(file_content)\n",
        "print(f\"lines:\")\n",
        "for line in lines:\n",
        "    print(line)"
      ],
      "metadata": {
        "colab": {
          "base_uri": "https://localhost:8080/"
        },
        "id": "U7y1CveU-_60",
        "outputId": "c92a25c1-3f3d-44d5-8937-1a7b3c3cc3aa"
      },
      "execution_count": null,
      "outputs": [
        {
          "output_type": "stream",
          "name": "stdout",
          "text": [
            "lines:\n",
            "Aman\n",
            "29\n",
            "Agra\n"
          ]
        }
      ]
    },
    {
      "cell_type": "markdown",
      "source": [
        "# 8. Use a lambda function in Python to sort a list of tuples based on the second element of each tuple."
      ],
      "metadata": {
        "id": "z9yGFCdkCBNv"
      }
    },
    {
      "cell_type": "code",
      "source": [
        "data=[(\"Aman\", 29), (\"Ram\", 25), (\"Anand\", 30)]    #Sort list of tuples using lambda function\n",
        "sorted_data=sorted(data, key=lambda x: x[1])\n",
        "print(f\"sorted list by age: {sorted_data}\")"
      ],
      "metadata": {
        "colab": {
          "base_uri": "https://localhost:8080/"
        },
        "id": "DKjSUqiJB8jk",
        "outputId": "f0c6c1af-a0e0-433e-f79a-0dec19aff066"
      },
      "execution_count": null,
      "outputs": [
        {
          "output_type": "stream",
          "name": "stdout",
          "text": [
            "sorted list by age: [('Ram', 25), ('Aman', 29), ('Anand', 30)]\n"
          ]
        }
      ]
    },
    {
      "cell_type": "markdown",
      "source": [
        "# 9. Write a Python program that uses map() to convert a list of temperatures from Celsius to Fahrenheit."
      ],
      "metadata": {
        "id": "qyIsKhHkCmzz"
      }
    },
    {
      "cell_type": "code",
      "source": [
        "def celsius_to_fahrenheit(c):        #convert Celsius to Fahrenheit\n",
        "    return (c*9/5)+32\n",
        "celsius_temps=[0, 20, 37, 100]    #List of temperatures in Celsius\n",
        "fahrenheit_temps = list(map(celsius_to_fahrenheit, celsius_temps))       # Use map to apply the conversion to each element\n",
        "print(fahrenheit_temps)"
      ],
      "metadata": {
        "colab": {
          "base_uri": "https://localhost:8080/",
          "height": 193
        },
        "id": "avfHYccVCZql",
        "outputId": "85855147-f5dd-4a24-8262-821f0f9af16e"
      },
      "execution_count": null,
      "outputs": [
        {
          "output_type": "error",
          "ename": "TypeError",
          "evalue": "'list' object is not callable",
          "traceback": [
            "\u001b[0;31m---------------------------------------------------------------------------\u001b[0m",
            "\u001b[0;31mTypeError\u001b[0m                                 Traceback (most recent call last)",
            "\u001b[0;32m/tmp/ipython-input-110-3670372312.py\u001b[0m in \u001b[0;36m<cell line: 0>\u001b[0;34m()\u001b[0m\n\u001b[1;32m      2\u001b[0m     \u001b[0;32mreturn\u001b[0m \u001b[0;34m(\u001b[0m\u001b[0mc\u001b[0m\u001b[0;34m*\u001b[0m\u001b[0;36m9\u001b[0m\u001b[0;34m/\u001b[0m\u001b[0;36m5\u001b[0m\u001b[0;34m)\u001b[0m\u001b[0;34m+\u001b[0m\u001b[0;36m32\u001b[0m\u001b[0;34m\u001b[0m\u001b[0;34m\u001b[0m\u001b[0m\n\u001b[1;32m      3\u001b[0m \u001b[0mcelsius_temps\u001b[0m\u001b[0;34m=\u001b[0m\u001b[0;34m[\u001b[0m\u001b[0;36m0\u001b[0m\u001b[0;34m,\u001b[0m \u001b[0;36m20\u001b[0m\u001b[0;34m,\u001b[0m \u001b[0;36m37\u001b[0m\u001b[0;34m,\u001b[0m \u001b[0;36m100\u001b[0m\u001b[0;34m]\u001b[0m    \u001b[0;31m#List of temperatures in Celsius\u001b[0m\u001b[0;34m\u001b[0m\u001b[0;34m\u001b[0m\u001b[0m\n\u001b[0;32m----> 4\u001b[0;31m \u001b[0mfahrenheit_temps\u001b[0m \u001b[0;34m=\u001b[0m \u001b[0mlist\u001b[0m\u001b[0;34m(\u001b[0m\u001b[0mmap\u001b[0m\u001b[0;34m(\u001b[0m\u001b[0mcelsius_to_fahrenheit\u001b[0m\u001b[0;34m,\u001b[0m \u001b[0mcelsius_temps\u001b[0m\u001b[0;34m)\u001b[0m\u001b[0;34m)\u001b[0m       \u001b[0;31m# Use map to apply the conversion to each element\u001b[0m\u001b[0;34m\u001b[0m\u001b[0;34m\u001b[0m\u001b[0m\n\u001b[0m\u001b[1;32m      5\u001b[0m \u001b[0mprint\u001b[0m\u001b[0;34m(\u001b[0m\u001b[0mfahrenheit_temps\u001b[0m\u001b[0;34m)\u001b[0m\u001b[0;34m\u001b[0m\u001b[0;34m\u001b[0m\u001b[0m\n",
            "\u001b[0;31mTypeError\u001b[0m: 'list' object is not callable"
          ]
        }
      ]
    },
    {
      "cell_type": "code",
      "source": [
        "def celsius_to_fahrenheit(c):        #convert Celsius to Fahrenheit\n",
        "    return (c*9/5)+32\n",
        "celsius_temps=[0, 20, 37, 100]    #List of temperatures in Celsius\n",
        "fahrenheit_temps = tuple(map(celsius_to_fahrenheit, celsius_temps))     #tuple of temperatures in Celsius\n",
        "print(fahrenheit_temps)"
      ],
      "metadata": {
        "colab": {
          "base_uri": "https://localhost:8080/"
        },
        "id": "klGGumo9KFu7",
        "outputId": "79083f27-a090-4933-99cf-ce379fc179c2"
      },
      "execution_count": null,
      "outputs": [
        {
          "output_type": "stream",
          "name": "stdout",
          "text": [
            "(32.0, 68.0, 98.6, 212.0)\n"
          ]
        }
      ]
    },
    {
      "cell_type": "markdown",
      "source": [
        "# 10. Create a Python program that uses filter() to remove all the vowels from a given string."
      ],
      "metadata": {
        "id": "Td1y12AXD9BZ"
      }
    },
    {
      "cell_type": "code",
      "source": [
        "def is_not_vowel(char):         #check if a character is not a vowel\n",
        "    vowels='aeiouAEIOU'\n",
        "    return char not in vowels\n",
        "text=\"Hello, World i am Aman Kushwah\"\n",
        "filtered_text=''.join(filter(is_not_vowel, text))\n",
        "print(f\"string without vowels: {filtered_text}\")"
      ],
      "metadata": {
        "colab": {
          "base_uri": "https://localhost:8080/"
        },
        "id": "PJxKBn5kC3SR",
        "outputId": "f471e56f-bf63-496d-e08e-178ba05fff34"
      },
      "execution_count": null,
      "outputs": [
        {
          "output_type": "stream",
          "name": "stdout",
          "text": [
            "string without vowels: Hll, Wrld  m mn Kshwh\n"
          ]
        }
      ]
    },
    {
      "cell_type": "code",
      "source": [],
      "metadata": {
        "id": "MFXt9vELE4C6"
      },
      "execution_count": null,
      "outputs": []
    }
  ]
}